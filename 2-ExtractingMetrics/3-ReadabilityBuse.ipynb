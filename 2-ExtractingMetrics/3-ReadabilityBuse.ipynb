{
 "cells": [
  {
   "cell_type": "markdown",
   "metadata": {},
   "source": [
    "In this script we will extract metrics for each commit. For that you need to download and install Understand Tool, available here https://scitools.com/trial-download-3/ . To run you will need license to Understand, student get free in https://scitools.com/non-commercial-license/"
   ]
  },
  {
   "cell_type": "code",
   "execution_count": 1,
   "metadata": {},
   "outputs": [
    {
     "name": "stdout",
     "output_type": "stream",
     "text": [
      "Requirement already satisfied: GitPython in c:\\programdata\\anaconda3\\lib\\site-packages (3.1.18)\n",
      "Requirement already satisfied: gitdb<5,>=4.0.1 in c:\\programdata\\anaconda3\\lib\\site-packages (from GitPython) (4.0.7)\n",
      "Requirement already satisfied: smmap<5,>=3.0.1 in c:\\programdata\\anaconda3\\lib\\site-packages (from gitdb<5,>=4.0.1->GitPython) (4.0.0)\n",
      "Note: you may need to restart the kernel to use updated packages.\n"
     ]
    }
   ],
   "source": [
    "pip install GitPython"
   ]
  },
  {
   "cell_type": "code",
   "execution_count": 2,
   "metadata": {},
   "outputs": [
    {
     "name": "stdout",
     "output_type": "stream",
     "text": [
      "Requirement already satisfied: JPype1 in c:\\programdata\\anaconda3\\lib\\site-packages (1.3.0)\n",
      "Note: you may need to restart the kernel to use updated packages.\n"
     ]
    }
   ],
   "source": [
    "pip install JPype1"
   ]
  },
  {
   "cell_type": "code",
   "execution_count": 3,
   "metadata": {},
   "outputs": [],
   "source": [
    "def printStatus(index, size):\n",
    "    print(\"{0}% Completed samples\".format((index / size) * 100))"
   ]
  },
  {
   "cell_type": "code",
   "execution_count": 4,
   "metadata": {},
   "outputs": [],
   "source": [
    "from git import Repo\n",
    "import pandas as pd\n",
    "import numpy as np\n",
    "import os\n",
    "import fnmatch\n",
    "from statistics import mean\n",
    "import shutil"
   ]
  },
  {
   "cell_type": "code",
   "execution_count": 5,
   "metadata": {},
   "outputs": [],
   "source": [
    "def findPaths(pattern, path):\n",
    "    result = []\n",
    "    for root, dirs, files in os.walk(path):\n",
    "        if '.git' in root:\n",
    "            continue\n",
    "        for name in files:\n",
    "            if fnmatch.fnmatch(name, pattern):\n",
    "                result.append(os.path.join(root, name))\n",
    "    return result"
   ]
  },
  {
   "cell_type": "markdown",
   "metadata": {},
   "source": [
    "Buse's Readability"
   ]
  },
  {
   "cell_type": "code",
   "execution_count": 6,
   "metadata": {},
   "outputs": [],
   "source": [
    "# Boiler plate stuff to start the module\n",
    "import jpype\n",
    "from jpype import *\n",
    "\n",
    "class BuseReadability(object):\n",
    "    def __init__(self, project):\n",
    "#         super(Readability, self).__init__()\n",
    "        self.project = project\n",
    "        self.startJVM()\n",
    "        self.readabilityPackage = JPackage(\"raykernel\").apps.readability.eval.Main\n",
    "        self.repositoryPath = \"repositories\\\\\"+project\n",
    "\n",
    "    def startJVM(self):\n",
    "        if not jpype.isJVMStarted():\n",
    "            jpype.startJVM(jpype.getDefaultJVMPath(), '-Djava.class.path=readability.jar',  '-ea', '-Xmx4096M', convertStrings=True)\n",
    "\n",
    "    def shutdownJVM(self):\n",
    "        jpype.shutdownJVM()\n",
    "\n",
    "    def getReadability(self):\n",
    "        javaFiles = findPaths(\"*.java\", self.repositoryPath)\n",
    "        if len(javaFiles) == 0: return 0\n",
    "        readability = 0\n",
    "        array = []\n",
    "        for javaFile in javaFiles:\n",
    "            try:\n",
    "                file = open(javaFile).read()\n",
    "            except:\n",
    "                file = \"\"\n",
    "            array.append(float(self.readabilityPackage.getReadability(file)))\n",
    "        return mean(array)"
   ]
  },
  {
   "cell_type": "code",
   "execution_count": 7,
   "metadata": {},
   "outputs": [],
   "source": [
    "def getBuseReadability(sample, commit):\n",
    "    checkoutTo(sample, commit)\n",
    "    r = BuseReadability(sample.split(\"/\")[0]+\"\\\\\"+sample.split(\"/\")[1])\n",
    "    readability = r.getReadability()\n",
    "    del r\n",
    "    return readability"
   ]
  },
  {
   "cell_type": "code",
   "execution_count": 8,
   "metadata": {},
   "outputs": [],
   "source": [
    "def checkoutTo(project, sha):\n",
    "    projectPath = \"repositories/\" + project\n",
    "    repository = Repo(projectPath)\n",
    "    repository.git.checkout(sha, \"-f\")"
   ]
  },
  {
   "cell_type": "code",
   "execution_count": 9,
   "metadata": {},
   "outputs": [],
   "source": [
    "samples = pd.read_csv(\"../1-GettingQuestions/sampleQuestions.csv\")"
   ]
  },
  {
   "cell_type": "code",
   "execution_count": 10,
   "metadata": {},
   "outputs": [],
   "source": [
    "samples = samples[samples[\"framework\"] == \"spring-cloud-samples\"]"
   ]
  },
  {
   "cell_type": "code",
   "execution_count": 11,
   "metadata": {},
   "outputs": [],
   "source": [
    "samples[\"full_name\"] = samples[\"framework\"] + \"/\" + samples[\"path\"]"
   ]
  },
  {
   "cell_type": "code",
   "execution_count": 12,
   "metadata": {},
   "outputs": [],
   "source": [
    "samples = samples[\"full_name\"].unique().tolist()"
   ]
  },
  {
   "cell_type": "code",
   "execution_count": 14,
   "metadata": {
    "scrolled": false
   },
   "outputs": [
    {
     "name": "stdout",
     "output_type": "stream",
     "text": [
      "spring-cloud-samples/stub-runner-boot\n",
      "0.0% Completed samples\n",
      "0/63 of line analized from spring-cloud-samples/stub-runner-boot\n",
      "1/63 of line analized from spring-cloud-samples/stub-runner-boot\n",
      "2/63 of line analized from spring-cloud-samples/stub-runner-boot\n",
      "3/63 of line analized from spring-cloud-samples/stub-runner-boot\n",
      "4/63 of line analized from spring-cloud-samples/stub-runner-boot\n",
      "5/63 of line analized from spring-cloud-samples/stub-runner-boot\n",
      "6/63 of line analized from spring-cloud-samples/stub-runner-boot\n",
      "7/63 of line analized from spring-cloud-samples/stub-runner-boot\n",
      "8/63 of line analized from spring-cloud-samples/stub-runner-boot\n",
      "9/63 of line analized from spring-cloud-samples/stub-runner-boot\n",
      "10/63 of line analized from spring-cloud-samples/stub-runner-boot\n",
      "11/63 of line analized from spring-cloud-samples/stub-runner-boot\n",
      "12/63 of line analized from spring-cloud-samples/stub-runner-boot\n",
      "13/63 of line analized from spring-cloud-samples/stub-runner-boot\n",
      "14/63 of line analized from spring-cloud-samples/stub-runner-boot\n",
      "15/63 of line analized from spring-cloud-samples/stub-runner-boot\n",
      "16/63 of line analized from spring-cloud-samples/stub-runner-boot\n",
      "17/63 of line analized from spring-cloud-samples/stub-runner-boot\n",
      "18/63 of line analized from spring-cloud-samples/stub-runner-boot\n",
      "19/63 of line analized from spring-cloud-samples/stub-runner-boot\n",
      "20/63 of line analized from spring-cloud-samples/stub-runner-boot\n",
      "21/63 of line analized from spring-cloud-samples/stub-runner-boot\n",
      "22/63 of line analized from spring-cloud-samples/stub-runner-boot\n",
      "23/63 of line analized from spring-cloud-samples/stub-runner-boot\n",
      "24/63 of line analized from spring-cloud-samples/stub-runner-boot\n",
      "25/63 of line analized from spring-cloud-samples/stub-runner-boot\n",
      "26/63 of line analized from spring-cloud-samples/stub-runner-boot\n",
      "27/63 of line analized from spring-cloud-samples/stub-runner-boot\n",
      "28/63 of line analized from spring-cloud-samples/stub-runner-boot\n",
      "29/63 of line analized from spring-cloud-samples/stub-runner-boot\n",
      "30/63 of line analized from spring-cloud-samples/stub-runner-boot\n",
      "31/63 of line analized from spring-cloud-samples/stub-runner-boot\n",
      "32/63 of line analized from spring-cloud-samples/stub-runner-boot\n",
      "33/63 of line analized from spring-cloud-samples/stub-runner-boot\n",
      "34/63 of line analized from spring-cloud-samples/stub-runner-boot\n",
      "35/63 of line analized from spring-cloud-samples/stub-runner-boot\n",
      "36/63 of line analized from spring-cloud-samples/stub-runner-boot\n",
      "37/63 of line analized from spring-cloud-samples/stub-runner-boot\n",
      "38/63 of line analized from spring-cloud-samples/stub-runner-boot\n",
      "39/63 of line analized from spring-cloud-samples/stub-runner-boot\n",
      "40/63 of line analized from spring-cloud-samples/stub-runner-boot\n",
      "41/63 of line analized from spring-cloud-samples/stub-runner-boot\n",
      "42/63 of line analized from spring-cloud-samples/stub-runner-boot\n",
      "43/63 of line analized from spring-cloud-samples/stub-runner-boot\n",
      "44/63 of line analized from spring-cloud-samples/stub-runner-boot\n",
      "45/63 of line analized from spring-cloud-samples/stub-runner-boot\n",
      "46/63 of line analized from spring-cloud-samples/stub-runner-boot\n",
      "47/63 of line analized from spring-cloud-samples/stub-runner-boot\n",
      "48/63 of line analized from spring-cloud-samples/stub-runner-boot\n",
      "49/63 of line analized from spring-cloud-samples/stub-runner-boot\n",
      "50/63 of line analized from spring-cloud-samples/stub-runner-boot\n",
      "51/63 of line analized from spring-cloud-samples/stub-runner-boot\n",
      "52/63 of line analized from spring-cloud-samples/stub-runner-boot\n",
      "53/63 of line analized from spring-cloud-samples/stub-runner-boot\n",
      "54/63 of line analized from spring-cloud-samples/stub-runner-boot\n",
      "55/63 of line analized from spring-cloud-samples/stub-runner-boot\n",
      "56/63 of line analized from spring-cloud-samples/stub-runner-boot\n",
      "57/63 of line analized from spring-cloud-samples/stub-runner-boot\n",
      "58/63 of line analized from spring-cloud-samples/stub-runner-boot\n",
      "59/63 of line analized from spring-cloud-samples/stub-runner-boot\n",
      "60/63 of line analized from spring-cloud-samples/stub-runner-boot\n",
      "61/63 of line analized from spring-cloud-samples/stub-runner-boot\n",
      "62/63 of line analized from spring-cloud-samples/stub-runner-boot\n",
      "spring-cloud-samples/sample-zuul-filters\n",
      "25.0% Completed samples\n",
      "0/27 of line analized from spring-cloud-samples/sample-zuul-filters\n",
      "1/27 of line analized from spring-cloud-samples/sample-zuul-filters\n",
      "2/27 of line analized from spring-cloud-samples/sample-zuul-filters\n",
      "3/27 of line analized from spring-cloud-samples/sample-zuul-filters\n",
      "4/27 of line analized from spring-cloud-samples/sample-zuul-filters\n",
      "5/27 of line analized from spring-cloud-samples/sample-zuul-filters\n",
      "6/27 of line analized from spring-cloud-samples/sample-zuul-filters\n",
      "7/27 of line analized from spring-cloud-samples/sample-zuul-filters\n",
      "8/27 of line analized from spring-cloud-samples/sample-zuul-filters\n",
      "9/27 of line analized from spring-cloud-samples/sample-zuul-filters\n",
      "10/27 of line analized from spring-cloud-samples/sample-zuul-filters\n",
      "11/27 of line analized from spring-cloud-samples/sample-zuul-filters\n",
      "12/27 of line analized from spring-cloud-samples/sample-zuul-filters\n",
      "13/27 of line analized from spring-cloud-samples/sample-zuul-filters\n",
      "14/27 of line analized from spring-cloud-samples/sample-zuul-filters\n",
      "15/27 of line analized from spring-cloud-samples/sample-zuul-filters\n",
      "16/27 of line analized from spring-cloud-samples/sample-zuul-filters\n",
      "17/27 of line analized from spring-cloud-samples/sample-zuul-filters\n",
      "18/27 of line analized from spring-cloud-samples/sample-zuul-filters\n",
      "19/27 of line analized from spring-cloud-samples/sample-zuul-filters\n",
      "20/27 of line analized from spring-cloud-samples/sample-zuul-filters\n",
      "21/27 of line analized from spring-cloud-samples/sample-zuul-filters\n",
      "22/27 of line analized from spring-cloud-samples/sample-zuul-filters\n",
      "23/27 of line analized from spring-cloud-samples/sample-zuul-filters\n",
      "24/27 of line analized from spring-cloud-samples/sample-zuul-filters\n",
      "25/27 of line analized from spring-cloud-samples/sample-zuul-filters\n",
      "26/27 of line analized from spring-cloud-samples/sample-zuul-filters\n",
      "spring-cloud-samples/spring-cloud-config-vault\n",
      "50.0% Completed samples\n",
      "0/12 of line analized from spring-cloud-samples/spring-cloud-config-vault\n",
      "1/12 of line analized from spring-cloud-samples/spring-cloud-config-vault\n",
      "2/12 of line analized from spring-cloud-samples/spring-cloud-config-vault\n",
      "3/12 of line analized from spring-cloud-samples/spring-cloud-config-vault\n",
      "4/12 of line analized from spring-cloud-samples/spring-cloud-config-vault\n",
      "5/12 of line analized from spring-cloud-samples/spring-cloud-config-vault\n",
      "6/12 of line analized from spring-cloud-samples/spring-cloud-config-vault\n",
      "7/12 of line analized from spring-cloud-samples/spring-cloud-config-vault\n",
      "8/12 of line analized from spring-cloud-samples/spring-cloud-config-vault\n",
      "9/12 of line analized from spring-cloud-samples/spring-cloud-config-vault\n",
      "10/12 of line analized from spring-cloud-samples/spring-cloud-config-vault\n",
      "11/12 of line analized from spring-cloud-samples/spring-cloud-config-vault\n",
      "spring-cloud-samples/spring-cloud-circuitbreaker-demo\n",
      "75.0% Completed samples\n",
      "0/42 of line analized from spring-cloud-samples/spring-cloud-circuitbreaker-demo\n",
      "1/42 of line analized from spring-cloud-samples/spring-cloud-circuitbreaker-demo\n",
      "2/42 of line analized from spring-cloud-samples/spring-cloud-circuitbreaker-demo\n",
      "3/42 of line analized from spring-cloud-samples/spring-cloud-circuitbreaker-demo\n",
      "4/42 of line analized from spring-cloud-samples/spring-cloud-circuitbreaker-demo\n",
      "5/42 of line analized from spring-cloud-samples/spring-cloud-circuitbreaker-demo\n",
      "6/42 of line analized from spring-cloud-samples/spring-cloud-circuitbreaker-demo\n",
      "7/42 of line analized from spring-cloud-samples/spring-cloud-circuitbreaker-demo\n",
      "8/42 of line analized from spring-cloud-samples/spring-cloud-circuitbreaker-demo\n",
      "9/42 of line analized from spring-cloud-samples/spring-cloud-circuitbreaker-demo\n",
      "10/42 of line analized from spring-cloud-samples/spring-cloud-circuitbreaker-demo\n",
      "11/42 of line analized from spring-cloud-samples/spring-cloud-circuitbreaker-demo\n",
      "12/42 of line analized from spring-cloud-samples/spring-cloud-circuitbreaker-demo\n"
     ]
    },
    {
     "name": "stdout",
     "output_type": "stream",
     "text": [
      "13/42 of line analized from spring-cloud-samples/spring-cloud-circuitbreaker-demo\n",
      "14/42 of line analized from spring-cloud-samples/spring-cloud-circuitbreaker-demo\n",
      "15/42 of line analized from spring-cloud-samples/spring-cloud-circuitbreaker-demo\n",
      "16/42 of line analized from spring-cloud-samples/spring-cloud-circuitbreaker-demo\n",
      "17/42 of line analized from spring-cloud-samples/spring-cloud-circuitbreaker-demo\n",
      "18/42 of line analized from spring-cloud-samples/spring-cloud-circuitbreaker-demo\n",
      "19/42 of line analized from spring-cloud-samples/spring-cloud-circuitbreaker-demo\n",
      "20/42 of line analized from spring-cloud-samples/spring-cloud-circuitbreaker-demo\n",
      "21/42 of line analized from spring-cloud-samples/spring-cloud-circuitbreaker-demo\n",
      "22/42 of line analized from spring-cloud-samples/spring-cloud-circuitbreaker-demo\n",
      "23/42 of line analized from spring-cloud-samples/spring-cloud-circuitbreaker-demo\n",
      "24/42 of line analized from spring-cloud-samples/spring-cloud-circuitbreaker-demo\n",
      "25/42 of line analized from spring-cloud-samples/spring-cloud-circuitbreaker-demo\n",
      "26/42 of line analized from spring-cloud-samples/spring-cloud-circuitbreaker-demo\n",
      "27/42 of line analized from spring-cloud-samples/spring-cloud-circuitbreaker-demo\n",
      "28/42 of line analized from spring-cloud-samples/spring-cloud-circuitbreaker-demo\n",
      "29/42 of line analized from spring-cloud-samples/spring-cloud-circuitbreaker-demo\n",
      "30/42 of line analized from spring-cloud-samples/spring-cloud-circuitbreaker-demo\n",
      "31/42 of line analized from spring-cloud-samples/spring-cloud-circuitbreaker-demo\n",
      "32/42 of line analized from spring-cloud-samples/spring-cloud-circuitbreaker-demo\n",
      "33/42 of line analized from spring-cloud-samples/spring-cloud-circuitbreaker-demo\n",
      "34/42 of line analized from spring-cloud-samples/spring-cloud-circuitbreaker-demo\n",
      "35/42 of line analized from spring-cloud-samples/spring-cloud-circuitbreaker-demo\n",
      "36/42 of line analized from spring-cloud-samples/spring-cloud-circuitbreaker-demo\n",
      "37/42 of line analized from spring-cloud-samples/spring-cloud-circuitbreaker-demo\n",
      "38/42 of line analized from spring-cloud-samples/spring-cloud-circuitbreaker-demo\n",
      "39/42 of line analized from spring-cloud-samples/spring-cloud-circuitbreaker-demo\n",
      "40/42 of line analized from spring-cloud-samples/spring-cloud-circuitbreaker-demo\n",
      "41/42 of line analized from spring-cloud-samples/spring-cloud-circuitbreaker-demo\n"
     ]
    }
   ],
   "source": [
    "for sample in samples:\n",
    "    print(sample)\n",
    "    file_address = f\"metrics/{sample}.csv\"\n",
    "    metrics = pd.read_csv(file_address)\n",
    "    metrics[\"Buse Readability\"] = 0\n",
    "    last_commit_result = (\"0\",0)\n",
    "    printStatus(samples.index(sample), len(samples))\n",
    "    for index in range(0, len(metrics)):\n",
    "        print(f\"{index}/{len(metrics)} of line analized from {sample}\")\n",
    "        current_commit = metrics.iloc[index][\"commitSha\"]\n",
    "        if not current_commit == last_commit_result[0]:\n",
    "            last_commit_result = (current_commit, getBuseReadability(sample, current_commit))\n",
    "        metrics.iloc[index, len(metrics.columns.values) - 1] = last_commit_result[1]\n",
    "        metrics.to_csv(file_address, index=False)"
   ]
  }
 ],
 "metadata": {
  "kernelspec": {
   "display_name": "Python 3",
   "language": "python",
   "name": "python3"
  },
  "language_info": {
   "codemirror_mode": {
    "name": "ipython",
    "version": 3
   },
   "file_extension": ".py",
   "mimetype": "text/x-python",
   "name": "python",
   "nbconvert_exporter": "python",
   "pygments_lexer": "ipython3",
   "version": "3.8.8"
  }
 },
 "nbformat": 4,
 "nbformat_minor": 4
}
