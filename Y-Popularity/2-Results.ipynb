{
 "cells": [
  {
   "cell_type": "code",
   "execution_count": 1,
   "id": "85141e23",
   "metadata": {},
   "outputs": [],
   "source": [
    "import pandas as pd"
   ]
  },
  {
   "cell_type": "code",
   "execution_count": 2,
   "id": "81a45da6",
   "metadata": {
    "scrolled": true
   },
   "outputs": [],
   "source": [
    "mannKendallResult = pd.read_csv(\"../4-StatisticalTests/mann_kendall_results.csv\")"
   ]
  },
  {
   "cell_type": "code",
   "execution_count": 3,
   "id": "7f10f6a2",
   "metadata": {},
   "outputs": [],
   "source": [
    "splitted = pd.read_csv(\"splitted.csv\")"
   ]
  },
  {
   "cell_type": "code",
   "execution_count": 4,
   "id": "35a0676f",
   "metadata": {},
   "outputs": [],
   "source": [
    "def split_values(results):\n",
    "    pop = pd.DataFrame()\n",
    "    unpop = pd.DataFrame()\n",
    "    for index in range(0, len(results)):\n",
    "\n",
    "        sample = results.iloc[index]\n",
    "        sample_splitted = splitted[splitted[\"path\"] == sample[\"full_name\"]]\n",
    "\n",
    "        if((sample_splitted[\"popularity\"] == \"popular\").bool()):\n",
    "            pop = pop.append(sample, ignore_index=True)\n",
    "        elif((sample_splitted[\"popularity\"] == \"unpopular\").bool()):\n",
    "            unpop = unpop.append(sample, ignore_index=True)\n",
    "    return pop, unpop"
   ]
  },
  {
   "cell_type": "code",
   "execution_count": 5,
   "id": "0920b83b",
   "metadata": {},
   "outputs": [],
   "source": [
    "pop, unpop = split_values(mannKendallResult)"
   ]
  },
  {
   "cell_type": "code",
   "execution_count": 6,
   "id": "7cbd6a9e",
   "metadata": {},
   "outputs": [],
   "source": [
    "def count_values(popularity):\n",
    "    llist = list()\n",
    "    for metric in popularity.columns.values:\n",
    "        metrics = popularity[metric]\n",
    "        if(\"trend\" in metric and not \"question\" in metric and not \"Readability\" in metric):\n",
    "            metrics = metrics.value_counts()\n",
    "            llist.append(\n",
    "                {\n",
    "                    \"metric\": \" \".join(metric.split(\" \")[:-1]),\n",
    "                    \"no trend\": metrics[\"no trend\"], \n",
    "                    \"increasing\": metrics[\"increasing\"], \n",
    "                    \"decreasing\": metrics[\"decreasing\"]\n",
    "                }\n",
    "            )\n",
    "    return llist"
   ]
  },
  {
   "cell_type": "code",
   "execution_count": 7,
   "id": "928c2468",
   "metadata": {},
   "outputs": [],
   "source": [
    "pd.DataFrame(count_values(pop)).to_csv(\"mann_kendall_popular.csv\", index=False)"
   ]
  },
  {
   "cell_type": "code",
   "execution_count": 8,
   "id": "8b12b5d8",
   "metadata": {},
   "outputs": [],
   "source": [
    "pd.DataFrame(count_values(unpop)).to_csv(\"mann_kendall_unpopular.csv\", index=False)"
   ]
  },
  {
   "cell_type": "markdown",
   "id": "a4794ba6",
   "metadata": {},
   "source": [
    "Correlation"
   ]
  },
  {
   "cell_type": "code",
   "execution_count": 9,
   "id": "660bb45a",
   "metadata": {},
   "outputs": [],
   "source": [
    "correlationResults = pd.read_csv(\"../4-StatisticalTests/correlation_results.csv\")"
   ]
  },
  {
   "cell_type": "code",
   "execution_count": 10,
   "id": "2b5cf4fb",
   "metadata": {},
   "outputs": [],
   "source": [
    "pop, unpop = split_values(correlationResults)"
   ]
  },
  {
   "cell_type": "code",
   "execution_count": 11,
   "id": "4602b675",
   "metadata": {},
   "outputs": [],
   "source": [
    "def count_values(popularity):\n",
    "    correlationResultSum = list()\n",
    "    correlation = \"\"\n",
    "    pvalue = \"\"\n",
    "    for metric in popularity.columns.values:\n",
    "        metrics = popularity[metric]\n",
    "        if (\"framework\" in metric):\n",
    "            continue\n",
    "        if(\"correlation\" in metric):\n",
    "            correlation = metric\n",
    "        elif(\"pvalue\" in metric):\n",
    "            pvalue = metric\n",
    "        if (correlation and pvalue and correlation.split(\" \")[:-1] == pvalue.split(\" \")[:-1]):\n",
    "            correlationResultSum.append(\n",
    "                {\n",
    "                    \"metric\": \" \".join(metric.split(\" \")[:-1]),\n",
    "                    \"positive correlation\": len(popularity[(popularity[pvalue] < 0.05) & (popularity[correlation] > 0)]), \n",
    "                    \"negative correlation\": len(popularity[(popularity[pvalue] < 0.05) & (popularity[correlation] < 0)]), \n",
    "                    \"inconclusive\": len(popularity[pd.isna(popularity[pvalue])]) + len(popularity[popularity[pvalue] > 0.05])\n",
    "                }\n",
    "            )\n",
    "    return correlationResultSum"
   ]
  },
  {
   "cell_type": "code",
   "execution_count": 12,
   "id": "aefce10d",
   "metadata": {},
   "outputs": [],
   "source": [
    "pd.DataFrame(count_values(pop)).to_csv(\"correlation_popular.csv\", index=False)"
   ]
  },
  {
   "cell_type": "code",
   "execution_count": 13,
   "id": "a4ef8b9b",
   "metadata": {},
   "outputs": [],
   "source": [
    "pd.DataFrame(count_values(unpop)).to_csv(\"correlation_unpopular.csv\", index=False)"
   ]
  }
 ],
 "metadata": {
  "kernelspec": {
   "display_name": "Python 3",
   "language": "python",
   "name": "python3"
  },
  "language_info": {
   "codemirror_mode": {
    "name": "ipython",
    "version": 3
   },
   "file_extension": ".py",
   "mimetype": "text/x-python",
   "name": "python",
   "nbconvert_exporter": "python",
   "pygments_lexer": "ipython3",
   "version": "3.8.8"
  }
 },
 "nbformat": 4,
 "nbformat_minor": 5
}
