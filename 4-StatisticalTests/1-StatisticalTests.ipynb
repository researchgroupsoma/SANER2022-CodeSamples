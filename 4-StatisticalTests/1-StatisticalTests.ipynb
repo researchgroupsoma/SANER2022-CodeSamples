{
 "cells": [
  {
   "cell_type": "code",
   "execution_count": 25,
   "id": "judicial-penalty",
   "metadata": {},
   "outputs": [],
   "source": [
    "import pandas as pd\n",
    "import numpy as np\n",
    "import statistics"
   ]
  },
  {
   "cell_type": "markdown",
   "id": "seven-outdoors",
   "metadata": {},
   "source": [
    "## Loading metrics"
   ]
  },
  {
   "cell_type": "code",
   "execution_count": 44,
   "id": "north-preference",
   "metadata": {},
   "outputs": [],
   "source": [
    "samples = pd.read_csv(\"../1-GettingQuestions/sampleQuestions.csv\")\n",
    "samples[\"full_name\"] = samples[\"framework\"] + \"/\" +samples[\"path\"]\n",
    "samples = samples[\"full_name\"].unique()"
   ]
  },
  {
   "cell_type": "code",
   "execution_count": 45,
   "id": "perfect-winner",
   "metadata": {},
   "outputs": [],
   "source": [
    "def loadMetrics(listSamples):\n",
    "    metrics = dict()\n",
    "    for sample in listSamples:\n",
    "        metrics[sample] = pd.read_csv(f\"../3-DataMerge/{sample}.csv\", index_col=[0,1], na_filter=False)\n",
    "    return metrics"
   ]
  },
  {
   "cell_type": "code",
   "execution_count": 46,
   "id": "social-semester",
   "metadata": {},
   "outputs": [],
   "source": [
    "normalized_metrics_questions = loadMetrics(samples)"
   ]
  },
  {
   "cell_type": "markdown",
   "id": "foreign-parker",
   "metadata": {},
   "source": [
    "## Mann Kendall Test"
   ]
  },
  {
   "cell_type": "markdown",
   "id": "unexpected-acoustic",
   "metadata": {},
   "source": [
    "Null Hypothesis: There is no monotonic trend.\n",
    "\n",
    "Alternative Hypothesis: There is a trend."
   ]
  },
  {
   "cell_type": "markdown",
   "id": "paperback-intake",
   "metadata": {},
   "source": [
    "If p-value < 0.05 then null Hypothesis is rejected."
   ]
  },
  {
   "cell_type": "code",
   "execution_count": 47,
   "id": "utility-amazon",
   "metadata": {
    "scrolled": true
   },
   "outputs": [
    {
     "name": "stdout",
     "output_type": "stream",
     "text": [
      "Requirement already satisfied: pymannkendall in c:\\programdata\\anaconda3\\lib\\site-packages (1.4.2)\n",
      "Requirement already satisfied: scipy in c:\\programdata\\anaconda3\\lib\\site-packages (from pymannkendall) (1.6.2)\n",
      "Requirement already satisfied: numpy in c:\\programdata\\anaconda3\\lib\\site-packages (from pymannkendall) (1.20.1)\n",
      "Note: you may need to restart the kernel to use updated packages.\n"
     ]
    }
   ],
   "source": [
    "pip install pymannkendall"
   ]
  },
  {
   "cell_type": "code",
   "execution_count": 48,
   "id": "collect-generic",
   "metadata": {},
   "outputs": [],
   "source": [
    "import pymannkendall as mk"
   ]
  },
  {
   "cell_type": "code",
   "execution_count": 74,
   "id": "recent-injury",
   "metadata": {},
   "outputs": [],
   "source": [
    "def extractMannKendallTest(metrics, listSamples):\n",
    "    result = pd.DataFrame(index=listSamples)\n",
    "    result.index.rename(\"full_name\", inplace=True)\n",
    "    for sample in listSamples:\n",
    "        sampleMetric = metrics[sample]\n",
    "        for metric in sampleMetric.columns.values:\n",
    "            mkResult = mk.original_test(sampleMetric[metric])\n",
    "            result.loc[sample, metric+\" trend\"] = mkResult.trend\n",
    "            result.loc[sample, metric+\" pvalue\"] = mkResult.p\n",
    "            result.loc[sample, \"framework\"] = sample.split(\"/\")[0]\n",
    "    return result"
   ]
  },
  {
   "cell_type": "code",
   "execution_count": 75,
   "id": "durable-survivor",
   "metadata": {},
   "outputs": [],
   "source": [
    "mannKendallResult = extractMannKendallTest(normalized_metrics_questions, normalized_metrics_questions.keys())"
   ]
  },
  {
   "cell_type": "code",
   "execution_count": 76,
   "id": "assisted-enterprise",
   "metadata": {},
   "outputs": [],
   "source": [
    "mannKendallResult.to_csv(\"mannKendallTest/mann_kendall_results.csv\")"
   ]
  },
  {
   "cell_type": "markdown",
   "id": "imported-occasions",
   "metadata": {},
   "source": [
    "## Normality Test (Shapiro-Wilk)"
   ]
  },
  {
   "cell_type": "markdown",
   "id": "combined-server",
   "metadata": {},
   "source": [
    "Null Hyphotesis: The population has normal distribution\n",
    "\n",
    "Alternative Hyphotesis: The population has not normal distribution"
   ]
  },
  {
   "cell_type": "markdown",
   "id": "intimate-arcade",
   "metadata": {},
   "source": [
    "If p-value < 0.05 then null hyphotesis is rejected"
   ]
  },
  {
   "cell_type": "markdown",
   "id": "broadband-stupid",
   "metadata": {},
   "source": [
    "## Correlation Test"
   ]
  },
  {
   "cell_type": "markdown",
   "id": "annual-stevens",
   "metadata": {},
   "source": [
    "Null Hypothesis: there is no correlation between data\n",
    "\n",
    "Alternative Hypothesis: there is a correlation"
   ]
  },
  {
   "cell_type": "markdown",
   "id": "level-shock",
   "metadata": {},
   "source": [
    "If p-value < 0.05 then null Hypothesis is rejected."
   ]
  },
  {
   "cell_type": "markdown",
   "id": "rubber-revelation",
   "metadata": {},
   "source": [
    "If the metric is normalized we will apply the Pearson Test, otherwise we will apply Spearman Test"
   ]
  },
  {
   "cell_type": "code",
   "execution_count": 77,
   "id": "given-patio",
   "metadata": {},
   "outputs": [],
   "source": [
    "from scipy import stats"
   ]
  },
  {
   "cell_type": "code",
   "execution_count": 83,
   "id": "scheduled-kitty",
   "metadata": {},
   "outputs": [],
   "source": [
    "def extractCorrelationTest(metrics, listSamples):\n",
    "    result = pd.DataFrame(index=listSamples)\n",
    "    result.index.rename(\"full_name\", inplace=True)\n",
    "    for sample in listSamples:\n",
    "        sampleMetric = metrics[sample]\n",
    "        for metric in sampleMetric.columns.values:\n",
    "            #test if the set has normal distribution\n",
    "            shapiroPvalue = stats.shapiro(sampleMetric[metric]).pvalue\n",
    "            if(shapiroPvalue < 0.05):\n",
    "                correlationResult = stats.spearmanr(sampleMetric[\"questions\"], sampleMetric[metric], nan_policy=\"omit\")    \n",
    "            else:\n",
    "                correlationResult = stats.pearsonr(sampleMetric[\"questions\"], sampleMetric[metric])\n",
    "            result.loc[sample, metric+\" correlation\"] = correlationResult[0]\n",
    "            result.loc[sample, metric+\" pvalue\"] = correlationResult[1]\n",
    "            result.loc[sample, \"framework\"] = sample.split(\"/\")[0]\n",
    "\n",
    "    return result"
   ]
  },
  {
   "cell_type": "code",
   "execution_count": 84,
   "id": "latest-chest",
   "metadata": {},
   "outputs": [],
   "source": [
    "correlationResult = extractCorrelationTest(normalized_metrics_questions, normalized_metrics_questions.keys())"
   ]
  },
  {
   "cell_type": "code",
   "execution_count": 85,
   "id": "theoretical-angola",
   "metadata": {},
   "outputs": [],
   "source": [
    "correlationResult.to_csv(\"correlationTest/correlation_results.csv\")"
   ]
  },
  {
   "cell_type": "code",
   "execution_count": 17,
   "id": "trying-gossip",
   "metadata": {
    "collapsed": true
   },
   "outputs": [
    {
     "name": "stdout",
     "output_type": "stream",
     "text": [
      "Collecting PyGithub\n",
      "  Downloading PyGithub-1.55-py3-none-any.whl (291 kB)\n",
      "\u001b[K     |████████████████████████████████| 291 kB 828 kB/s eta 0:00:01\n",
      "\u001b[?25hRequirement already satisfied: requests>=2.14.0 in /opt/conda/lib/python3.8/site-packages (from PyGithub) (2.25.1)\n",
      "Requirement already satisfied: pyjwt>=2.0 in /opt/conda/lib/python3.8/site-packages (from PyGithub) (2.0.0)\n",
      "Collecting pynacl>=1.4.0\n",
      "  Downloading PyNaCl-1.4.0-cp35-abi3-manylinux1_x86_64.whl (961 kB)\n",
      "\u001b[K     |████████████████████████████████| 961 kB 1.7 MB/s eta 0:00:01\n",
      "\u001b[?25hRequirement already satisfied: six in /opt/conda/lib/python3.8/site-packages (from pynacl>=1.4.0->PyGithub) (1.15.0)\n",
      "Requirement already satisfied: cffi>=1.4.1 in /opt/conda/lib/python3.8/site-packages (from pynacl>=1.4.0->PyGithub) (1.14.4)\n",
      "Requirement already satisfied: pycparser in /opt/conda/lib/python3.8/site-packages (from cffi>=1.4.1->pynacl>=1.4.0->PyGithub) (2.20)\n",
      "Requirement already satisfied: idna<3,>=2.5 in /opt/conda/lib/python3.8/site-packages (from requests>=2.14.0->PyGithub) (2.10)\n",
      "Requirement already satisfied: certifi>=2017.4.17 in /opt/conda/lib/python3.8/site-packages (from requests>=2.14.0->PyGithub) (2020.12.5)\n",
      "Requirement already satisfied: urllib3<1.27,>=1.21.1 in /opt/conda/lib/python3.8/site-packages (from requests>=2.14.0->PyGithub) (1.26.2)\n",
      "Requirement already satisfied: chardet<5,>=3.0.2 in /opt/conda/lib/python3.8/site-packages (from requests>=2.14.0->PyGithub) (4.0.0)\n",
      "Collecting deprecated\n",
      "  Downloading Deprecated-1.2.12-py2.py3-none-any.whl (9.5 kB)\n",
      "Collecting wrapt<2,>=1.10\n",
      "  Downloading wrapt-1.12.1.tar.gz (27 kB)\n",
      "Building wheels for collected packages: wrapt\n",
      "  Building wheel for wrapt (setup.py) ... \u001b[?25ldone\n",
      "\u001b[?25h  Created wheel for wrapt: filename=wrapt-1.12.1-cp38-cp38-linux_x86_64.whl size=81770 sha256=1e512685d67f5f17ebcbb91303386f80ea93880cb8d6dfd37fbfc36c39510152\n",
      "  Stored in directory: /home/jovyan/.cache/pip/wheels/5f/fd/9e/b6cf5890494cb8ef0b5eaff72e5d55a70fb56316007d6dfe73\n",
      "Successfully built wrapt\n",
      "Installing collected packages: wrapt, pynacl, deprecated, PyGithub\n",
      "Successfully installed PyGithub-1.55 deprecated-1.2.12 pynacl-1.4.0 wrapt-1.12.1\n",
      "Note: you may need to restart the kernel to use updated packages.\n"
     ]
    }
   ],
   "source": [
    "pip install PyGithub"
   ]
  },
  {
   "cell_type": "code",
   "execution_count": 18,
   "id": "beautiful-thickness",
   "metadata": {},
   "outputs": [],
   "source": [
    "from github import Github"
   ]
  },
  {
   "cell_type": "code",
   "execution_count": 19,
   "id": "limiting-rover",
   "metadata": {},
   "outputs": [],
   "source": [
    "g = Github(\"9e3a972c36e562286ad8ce5b189419f064234303\")"
   ]
  },
  {
   "cell_type": "code",
   "execution_count": 68,
   "id": "bulgarian-picking",
   "metadata": {},
   "outputs": [],
   "source": [
    "def printAgeOfCodeSamplesWithIncreasingReadability(increasings, mannKendallResult):\n",
    "    increasing = mannKendallResult[mannKendallResult[\"Readability trend\"] == \"increasing\"][\"Readability trend\"].index.values\n",
    "    for sample in increasing:\n",
    "        year = g.get_repo(sample).created_at.strftime(\"%Y\")\n",
    "        print(sample, year)\n",
    "        increasings.append(int(year))\n",
    "    return increasings"
   ]
  },
  {
   "cell_type": "code",
   "execution_count": 69,
   "id": "funny-usage",
   "metadata": {
    "collapsed": true
   },
   "outputs": [
    {
     "name": "stdout",
     "output_type": "stream",
     "text": [
      "googlesamples/android-AutofillFramework 2017\n",
      "googlesamples/google-services 2015\n",
      "googlesamples/easypermissions 2015\n",
      "googlesamples/android-testing 2014\n",
      "googlesamples/android-credentials 2015\n",
      "googlesamples/android-testdpc 2015\n",
      "googlesamples/android-ActivitySceneTransitionBasic 2014\n",
      "googlesamples/android-DirectBoot 2016\n",
      "googlesamples/androidtv-Leanback 2014\n",
      "googlesamples/android-fit 2014\n",
      "googlesamples/android-BasicRenderScript 2014\n",
      "googlesamples/android-TextLinkify 2014\n",
      "googlesamples/android-SynchronizedNotifications 2014\n",
      "googlesamples/android-SlidingTabsBasic 2014\n",
      "googlesamples/android-RuntimePermissions 2015\n",
      "googlesamples/android-RevealEffectBasic 2014\n",
      "googlesamples/android-NfcProvisioning 2015\n",
      "googlesamples/android-NetworkConnect 2014\n",
      "googlesamples/android-MediaRouter 2014\n",
      "googlesamples/android-MediaBrowserService 2014\n",
      "googlesamples/android-DirectorySelection 2014\n",
      "googlesamples/android-BatchStepSensor 2014\n",
      "googlesamples/android-BasicSyncAdapter 2014\n",
      "googlesamples/android-play-safetynet 2016\n",
      "aws-samples/aws-cognito-java-desktop-app 2017\n",
      "aws-samples/aws-cloudhsm-jce-examples 2018\n",
      "aws-samples/amazon-ecs-java-microservices 2017\n",
      "Azure-Samples/ms-identity-java-webapp 2019\n",
      "Azure-Samples/cognitive-services-android-customvision-sample 2017\n",
      "Azure-Samples/Hybrid-resources-java-manage-resource-group 2018\n",
      "Azure-Samples/azure-iot-samples-java 2018\n",
      "Azure-Samples/cognitive-services-qnamaker-java 2018\n",
      "Azure-Samples/active-directory-b2c-android-native-msal 2017\n",
      "Azure-Samples/storage-blob-java-getting-started 2015\n",
      "Azure-Samples/storage-table-java-getting-started 2015\n",
      "spring-guides/tut-rest 2014\n",
      "spring-guides/gs-rest-service 2013\n",
      "spring-guides/gs-spring-boot-docker 2015\n",
      "spring-guides/gs-producing-web-service 2014\n",
      "spring-guides/gs-messaging-jms 2013\n",
      "spring-guides/gs-consuming-rest 2013\n",
      "spring-guides/gs-accessing-data-rest 2014\n",
      "spring-guides/gs-validating-form-input 2013\n",
      "spring-guides/gs-managing-transactions 2013\n",
      "spring-guides/gs-batch-processing 2013\n",
      "spring-guides/gs-async-method 2013\n",
      "spring-guides/gs-actuator-service 2013\n",
      "spring-guides/tut-spring-boot-oauth2 2015\n"
     ]
    }
   ],
   "source": [
    "increasings = []\n",
    "increasings = printAgeOfCodeSamplesWithIncreasingReadability(increasings, androidMannKendallResult)\n",
    "increasings = printAgeOfCodeSamplesWithIncreasingReadability(increasings, awsMannKendallResult)    \n",
    "increasings = printAgeOfCodeSamplesWithIncreasingReadability(increasings, azureMannKendallResult)\n",
    "increasings = printAgeOfCodeSamplesWithIncreasingReadability(increasings, springMannKendallResult)    "
   ]
  },
  {
   "cell_type": "code",
   "execution_count": 92,
   "id": "documentary-example",
   "metadata": {
    "scrolled": true
   },
   "outputs": [
    {
     "data": {
      "text/plain": [
       "2014"
      ]
     },
     "execution_count": 92,
     "metadata": {},
     "output_type": "execute_result"
    }
   ],
   "source": [
    "statistics.mode(increasings)"
   ]
  },
  {
   "cell_type": "code",
   "execution_count": 85,
   "id": "solved-coordination",
   "metadata": {},
   "outputs": [],
   "source": [
    "def printAgeOfCodeSamplesWithoutIncreasingReadability(noincreasings, mannKendallResult):\n",
    "    noincreasing = mannKendallResult[mannKendallResult[\"Readability trend\"] != \"increasing\"][\"Readability trend\"].index.values\n",
    "    for sample in noincreasing:\n",
    "        year = g.get_repo(sample).created_at.strftime(\"%Y\")\n",
    "        print(sample, year)\n",
    "        noincreasings.append(int(year))\n",
    "    return noincreasings"
   ]
  },
  {
   "cell_type": "code",
   "execution_count": 86,
   "id": "possible-handy",
   "metadata": {},
   "outputs": [
    {
     "name": "stdout",
     "output_type": "stream",
     "text": [
      "googlesamples/android-play-location 2014\n",
      "googlesamples/android-Camera2Basic 2014\n",
      "googlesamples/android-EmojiCompat 2017\n",
      "googlesamples/android-instant-apps 2017\n",
      "googlesamples/android-nearby 2015\n",
      "googlesamples/android-AppUsageStatistics 2014\n",
      "googlesamples/android-custom-lint-rules 2015\n",
      "googlesamples/android-play-billing 2015\n",
      "googlesamples/android-vision 2015\n",
      "googlesamples/android-ads 2015\n",
      "googlesamples/android-BluetoothLeGatt 2014\n",
      "googlesamples/android-Camera2Raw 2015\n",
      "googlesamples/android-PictureInPicture 2017\n",
      "googlesamples/android-Camera2Video 2014\n",
      "googlesamples/android-XYZTouristAttractions 2015\n",
      "googlesamples/android-WearVerifyRemoteApp 2016\n",
      "googlesamples/android-WatchFace 2014\n",
      "googlesamples/android-MediaEffects 2014\n",
      "googlesamples/leanback-showcase 2016\n",
      "googlesamples/androidtv-sample-inputs 2014\n",
      "googlesamples/android-play-publisher-api 2014\n",
      "googlesamples/android-BluetoothChat 2014\n",
      "googlesamples/android-MediaRecorder 2014\n",
      "googlesamples/android-DisplayingBitmaps 2014\n",
      "googlesamples/android-testing-templates 2015\n",
      "googlesamples/android-SwipeRefreshLayoutBasic 2014\n",
      "googlesamples/android-StorageProvider 2014\n",
      "googlesamples/android-ScreenCapture 2014\n",
      "googlesamples/android-ScopedDirectoryAccess 2016\n",
      "googlesamples/android-RecyclerView 2014\n",
      "googlesamples/android-PdfRendererBasic 2014\n",
      "googlesamples/android-NotificationChannels 2017\n",
      "googlesamples/android-MultiWindowPlayground 2016\n",
      "googlesamples/android-LNotifications 2014\n",
      "googlesamples/android-JobScheduler 2014\n",
      "googlesamples/android-HdrViewfinder 2014\n",
      "googlesamples/android-Geofencing 2014\n",
      "googlesamples/android-FingerprintDialog 2015\n",
      "googlesamples/android-DownloadableFonts 2017\n",
      "googlesamples/android-DirectShare 2015\n",
      "googlesamples/android-DeviceOwner 2015\n",
      "googlesamples/android-CommitContentSampleApp 2016\n",
      "googlesamples/android-CardReader 2014\n",
      "googlesamples/android-CardEmulation 2014\n",
      "googlesamples/android-BluetoothAdvertisements 2015\n",
      "googlesamples/android-BasicManagedProfile 2014\n",
      "googlesamples/android-BasicAndroidKeyStore 2014\n",
      "googlesamples/android-AsymmetricFingerprintDialog 2015\n",
      "googlesamples/android-ActiveNotifications 2015\n",
      "googlesamples/android-key-attestation 2016\n",
      "googlesamples/android-play-places 2015\n",
      "googlesamples/android-AccelerometerPlay 2016\n",
      "googlesamples/leanback-assistant 2017\n",
      "googlesamples/android-SimpleMediaPlayer 2017\n",
      "googlesamples/android-fido 2017\n",
      "googlesamples/android-WearStandaloneGoogleSignIn 2016\n",
      "googlesamples/android-WearCompanionLibrary 2015\n",
      "googlesamples/identity-toolkit-android 2014\n",
      "googlesamples/android-WclDemoSample 2015\n",
      "googlesamples/android-google-accounts 2014\n",
      "aws-samples/amazon-kinesis-learning 2015\n",
      "aws-samples/alexa-web-information-service-api-samples 2019\n",
      "aws-samples/aws-dynamodb-examples 2013\n",
      "aws-samples/aws-transcribe-streaming-example-java 2018\n",
      "aws-samples/aws-device-farm-appium-cucumber-tests-for-sample-app 2018\n",
      "Azure-Samples/Azure-Spring-Cloud-Samples 2019\n",
      "Azure-Samples/azure-cosmos-db-cassandra-java-getting-started 2017\n",
      "Azure-Samples/ms-identity-java-desktop 2019\n",
      "Azure-Samples/ms-identity-android-java 2019\n",
      "Azure-Samples/active-directory-android 2014\n",
      "Azure-Samples/active-directory-java-webapp-openidconnect 2015\n",
      "Azure-Samples/media-services-v3-java 2019\n",
      "Azure-Samples/compute-java-manage-vm 2016\n",
      "Azure-Samples/network-java-manage-network-security-group 2016\n",
      "Azure-Samples/aks-java-manage-kubernetes-cluster 2017\n",
      "Azure-Samples/aad-java-manage-users-groups-and-roles 2017\n",
      "Azure-Samples/monitor-java-query-metrics-activitylogs 2018\n",
      "Azure-Samples/batch-java-manage-batch-accounts 2016\n",
      "Azure-Samples/dns-java-host-and-manage-your-domains 2016\n",
      "Azure-Samples/java-functions-eventhub-cosmosdb 2019\n",
      "Azure-Samples/storage-blobs-java-quickstart 2017\n",
      "Azure-Samples/active-directory-b2c-android-native-appauth 2017\n",
      "Azure-Samples/azure-cosmos-db-graph-java-getting-started 2017\n",
      "Azure-Samples/cognitive-services-face-android-detect 2018\n",
      "Azure-Samples/iot-edge-sample-java 2018\n",
      "Azure-Samples/SpeechToText-REST 2017\n",
      "Azure-Samples/key-vault-java-certificate-authentication 2017\n",
      "Azure-Samples/storage-blob-android-photo-uploader 2016\n",
      "spring-guides/gs-spring-boot 2013\n",
      "spring-guides/gs-scheduling-tasks 2013\n",
      "spring-guides/gs-crud-with-vaadin 2015\n",
      "spring-guides/gs-uploading-files 2013\n",
      "spring-guides/gs-serving-web-content 2013\n",
      "spring-guides/gs-service-registration-and-discovery 2016\n",
      "spring-guides/gs-securing-web 2013\n",
      "spring-guides/gs-rest-service-cors 2013\n",
      "spring-guides/gs-multi-module 2017\n",
      "spring-guides/gs-messaging-stomp-websocket 2013\n",
      "spring-guides/gs-messaging-rabbitmq 2013\n",
      "spring-guides/gs-gradle 2013\n",
      "spring-guides/gs-consuming-web-service 2014\n",
      "spring-guides/gs-accessing-mongodb-data-rest 2014\n",
      "spring-guides/gs-accessing-data-jpa 2013\n",
      "spring-guides/getting-started-guides 2013\n",
      "spring-guides/gs-rest-hateoas 2013\n",
      "spring-guides/gs-messaging-gcp-pubsub 2017\n",
      "spring-guides/gs-handling-form-submission 2013\n",
      "spring-guides/gs-gateway 2018\n",
      "spring-guides/gs-accessing-neo4j-data-rest 2014\n",
      "spring-guides/gs-accessing-data-neo4j 2013\n",
      "spring-guides/gs-accessing-data-mongodb 2013\n"
     ]
    }
   ],
   "source": [
    "noincreasings = []\n",
    "noincreasings = printAgeOfCodeSamplesWithoutIncreasingReadability(noincreasings, androidMannKendallResult)\n",
    "noincreasings = printAgeOfCodeSamplesWithoutIncreasingReadability(noincreasings, awsMannKendallResult)    \n",
    "noincreasings = printAgeOfCodeSamplesWithoutIncreasingReadability(noincreasings, azureMannKendallResult)\n",
    "noincreasings = printAgeOfCodeSamplesWithoutIncreasingReadability(noincreasings, springMannKendallResult)    "
   ]
  },
  {
   "cell_type": "code",
   "execution_count": 93,
   "id": "obvious-toyota",
   "metadata": {},
   "outputs": [
    {
     "data": {
      "text/plain": [
       "2014"
      ]
     },
     "execution_count": 93,
     "metadata": {},
     "output_type": "execute_result"
    }
   ],
   "source": [
    "statistics.mode(noincreasings)"
   ]
  }
 ],
 "metadata": {
  "kernelspec": {
   "display_name": "Python 3",
   "language": "python",
   "name": "python3"
  },
  "language_info": {
   "codemirror_mode": {
    "name": "ipython",
    "version": 3
   },
   "file_extension": ".py",
   "mimetype": "text/x-python",
   "name": "python",
   "nbconvert_exporter": "python",
   "pygments_lexer": "ipython3",
   "version": "3.8.8"
  }
 },
 "nbformat": 4,
 "nbformat_minor": 5
}
